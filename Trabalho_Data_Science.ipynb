{
  "nbformat": 4,
  "nbformat_minor": 0,
  "metadata": {
    "colab": {
      "provenance": []
    },
    "kernelspec": {
      "name": "python3",
      "display_name": "Python 3"
    },
    "language_info": {
      "name": "python"
    }
  },
  "cells": [
    {
      "cell_type": "markdown",
      "source": [
        "# **Fraudes em Cartões de Crédito**"
      ],
      "metadata": {
        "id": "JRS9dWoeWBS7"
      }
    },
    {
      "cell_type": "markdown",
      "source": [
        "# 1. Análise de Fraudes com Cartões de Crédito:"
      ],
      "metadata": {
        "id": "byajjpnWxPXp"
      }
    },
    {
      "cell_type": "markdown",
      "source": [
        "## 1.1. Motivação:\n",
        "\n",
        "Com a pandemia de COVID-19 se alastrando pelo mundo no começo de 2020, o mundo foi forçado a aderir aos *lockdowns*. Com isso, houve um aumento significativo de compras online [1, 2], sendo o cartão de crédito a forma preferida de pagamento, correspondendo a 93% em alguns segmentos de compras [3], no Brasil.\n",
        "\n",
        "Mesmo com a flexibilização e abandono da quarentena, pesquisas apontam que o hábito de comprar online aumenta a cada dia, com o Brasil liderando o *ranking* de crescimento (pouco mais de 22%) [4].\n",
        "\n",
        "Dessa forma, aumentam também os tipos de fraudes para essa forma de pagamento, gerando prejuízos aos consumidores e custos para os bancos. De acordo com um levantamento da IBM, o Brasil é o terceiro país que mais sofreu com esse tipo de prática [5], onde 1 em cada 3 consumidores foi alvo.\n",
        "\n",
        "Portanto, faz-se necessário um estudo mais aprofundado no entendimento desse tipo de fraude: quais parâmetros impedem/diminuem as fraudes, como evitar novos “golpes” e como melhorar a segurança nas compras.\n"
      ],
      "metadata": {
        "id": "8bKxEQDrsXGo"
      }
    },
    {
      "cell_type": "markdown",
      "source": [
        "## 1.2. Objetivo:\n",
        "\n",
        "O objetivo deste trabalho é analisar os dados de compras com cartões de crédito, dados estes compostos em fraudes e compras verificadas.\n",
        "\n",
        "Primeiramente, será feita a análise exploratória dos dados (EDA) para conhecimento e análises preliminares do conjunto, e em seguida, serão testados modelos de classificação e predição."
      ],
      "metadata": {
        "id": "d81UT-4-Yua9"
      }
    },
    {
      "cell_type": "markdown",
      "source": [
        "## 1.3. Abordagem do Problema:\n",
        "\n",
        "O estudo de fraudes em cartões de crédito vem aumentando após o crescimento da Ciência de Dados, na qual permite uma avaliação mais assertiva da situação, quando bem analisada. Esta análise é de vital importância para entendimento do problema, bem como de suas possíveis limitações, evitando problemas posteriores nos treinamento dos modelos de Machine Learning desejados.\n",
        "\n",
        "Portanto, essa é uma área com várias referências na literatura, com grupos tentando cada vez mais melhorar a acurácia dos modelos defendidos.\n",
        "\n",
        "Como a maior parte destes grupos está focado na melhora da acurácia, é raro encontrar algum artigo que apresenta a análise exploratória dos dados, partindo diretamente para os modelos em si. Provavelmente, isso é feito para poupar tempo do leitor (que deve ter o mínimo conhecimento nessas análises), além de manter o foco no assunto de interesse. Ou seja, desenvolver formas de solucionar alguns problemas presentes nos dados disponíveis: normalmente  a base de dados é desbalanceada, podendo acarretar em treinamentos com baixa performance; falta de dados para o estudo dos fatores principais que acarretam nas fraudes; e dados sensíveis, que violem leis de privacidade, como a LGPD.\n",
        "\n",
        "Entre os modelos apresentados em alguns artigos estudados, pode-se citar o LOF (Local Outlier Factor), a DT (Decision Tree), o SVM e a Regressão Logística [6, 7, 8]. Estes métodos de Machine Learning serão abordados na seção 3.\n",
        "\n",
        "Uma vez que a base de dados escolhida está disponível no *Kaggle*, facilmente encontra-se trabalhos com a mesma proposta ou proposta similar à desenvolvida neste trabalho.\n",
        "\n",
        "Apesar de ser uma base de dados simples, com poucas features, seu estudo pode ser bastante abrangente, servindo no estudo de EDA e na predição de modelos clássicos. Além disso, trata-se de um *dataset* atualizado, sendo sua última modificação em Maio de 2022 e não possui dados sensíveis. Deste modo, é um arquivo que já possui algumas modificações quanto às compras feitas *online*. A seguir, tem-se alguns trabalhos que utilizam a mesma base de dados e seguem uma linha similar:\n",
        "\n",
        "  1. Um dos *notebooks* que utiliza a mesma base de dados, faz em poucas células, uma breve análise exploratória de dados, obtendo dados descritivos, correlação entre as *features* e alguns gráficos. Em seguida, faz um treinamento para a Regressão Logística, analisando apenas os dados da *feature* de fraudes. Infelizmente, o usuário não adequou o *dataset* corretamente, uma vez que as fraudes correspondem a menos de 10% dos dados. Isso fez com que o modelo treinado reconhecesse as transações apenas como não fraudulentas (https://www.kaggle.com/code/boikanyobk/credit-card-fraud-detection).\n",
        "\n",
        "  2. Já o segundo notebook estudado, faz pouquíssimas análises de EDA, mantendo seu foco na classificação de modelos. Diferentemente do primeiro *notebook* estudado, este usuário verificou que o *dataset* é desbalanceado e fez as alterações necessárias para evitar baixa performance (o usuário fez uso do método SMOTE()). Neste caso, o usuário fez uso da Classificação Binária, usando uma rede neural com três camadas (https://www.kaggle.com/code/bahadoreizadkhah/credit-card-fraud-classification-with-pytorch/notebook).\n",
        "\n",
        "  3. Por fim, o último *notebook* estudado também faz uma breve análise de EDA, porém, vê-se que o usuário já possui maior experiência, uma vez que suas análises são mais assertivas e diretas ao estudo proposto: são gerados gráficos de distribuições bivariadas (com o método pairplot() do Seaborn) e gráficos de violino para análise de fraude em diferentes tipos de transação. Após várias análises, são treinados e testados três modelos: DNN, SVM e Árvore de Decisão \t(https://www.kaggle.com/code/zwhjorth/dnn-svm-and-dt-for-fraud-detection/notebook).\n",
        "\n",
        "Para o atual trabalho, serão analisados três modelos, dois abordados nos *notebooks* citados (a Regressão Logística - primeiro *notebook*; e Árvore de Decisão - último *notebook*) e o KNN. A fim de comparação, serão reanalisados os modelos com o uso do SMOTE (usado no segundo *notebook*)."
      ],
      "metadata": {
        "id": "jt7Pgh3xxbg8"
      }
    },
    {
      "cell_type": "markdown",
      "source": [
        "# 2. EDA (Análise Exploratória de Dados):"
      ],
      "metadata": {
        "id": "yD-4G14_q39j"
      }
    },
    {
      "cell_type": "markdown",
      "source": [
        "## 2.1. Features:\n",
        "\n",
        "As features do dataset usado são:\n",
        "\n",
        "\n",
        "*distancefromhome* - a distância entre a moradia e o estabelecimento onde ocorreu a transação. (the distance from home where the transaction happened.)\n",
        "\n",
        "*distancefromlast_transaction* - distância da última transação efetuada (the distance from last transaction happened.)\n",
        "\n",
        "*ratiotomedianpurchaseprice* - razão entre o preço de compra por transação e o preço de compra mediano. (Ratio of purchased price transaction to median purchase price.)\n",
        "\n",
        "*repeat_retailer* - se a transação ocorreu no mesmo estabelecimento. (Is the transaction happened from same retailer.)\n",
        "\n",
        "*used_chip* - se a transação foi feita através do *chip*. (Is the transaction through chip (credit card).)\n",
        "\n",
        "*usedpinnumber* - se a transação foi feita com o *PIN number*. (Is the transaction happened by using PIN number.)\n",
        "\n",
        "*online_order* - se a transação foi *online*. (Is the transaction an online order.)\n",
        "\n",
        "*fraud* - se a transação é fraudulenta. (Is the transaction fraudulent.)"
      ],
      "metadata": {
        "id": "5No7fUrfeA4X"
      }
    },
    {
      "cell_type": "markdown",
      "source": [
        "*Obs*.: Algumas colunas usam lógica *booleana*, valendo a seguinte correspondência:\n",
        "\n",
        "*   0: não;\n",
        "*   1: sim."
      ],
      "metadata": {
        "id": "KJL_ay0Zdq4n"
      }
    },
    {
      "cell_type": "markdown",
      "source": [
        "## 2.2. Montagem do Ambiente e Carregamento do DataSet:"
      ],
      "metadata": {
        "id": "CaLTuSFXYFpF"
      }
    },
    {
      "cell_type": "code",
      "execution_count": null,
      "metadata": {
        "id": "3FV03zOeV9Zl"
      },
      "outputs": [],
      "source": [
        "# Importando as bibliotecas\n",
        "import pandas as pd\n",
        "import numpy as np\n",
        "import seaborn as sns\n",
        "import matplotlib as mpl\n",
        "import matplotlib.pyplot as plt\n",
        "%matplotlib inline"
      ]
    },
    {
      "cell_type": "markdown",
      "source": [
        "A base de dados usada neste trabalho foi baixada do *Kaggle*. O link para *download* encontra-se em:\n",
        "\n",
        "https://www.kaggle.com/datasets/dhanushnarayananr/credit-card-fraud?resource=download"
      ],
      "metadata": {
        "id": "I05tP1WkYiQw"
      }
    },
    {
      "cell_type": "code",
      "source": [
        "# Carregando o dataset (salvo no meu drive)\n",
        "df = pd.read_csv('/content/drive/MyDrive/Ciência de Dados/card_transdata.csv')"
      ],
      "metadata": {
        "id": "O106uuiHY49z"
      },
      "execution_count": null,
      "outputs": []
    },
    {
      "cell_type": "markdown",
      "source": [
        "## 2.3. Visualização dos Dados e Primeiras Análises:"
      ],
      "metadata": {
        "id": "GqBNnON8tTBR"
      }
    },
    {
      "cell_type": "code",
      "source": [
        "# Visualização prévia dos dados\n",
        "df.head()"
      ],
      "metadata": {
        "colab": {
          "base_uri": "https://localhost:8080/",
          "height": 270
        },
        "id": "4wyWzmC9dIAY",
        "outputId": "ae8b4dc4-40fc-4b9a-9b02-18e5db329e1e"
      },
      "execution_count": null,
      "outputs": [
        {
          "output_type": "execute_result",
          "data": {
            "text/plain": [
              "   distance_from_home  distance_from_last_transaction  \\\n",
              "0           57.877857                        0.311140   \n",
              "1           10.829943                        0.175592   \n",
              "2            5.091079                        0.805153   \n",
              "3            2.247564                        5.600044   \n",
              "4           44.190936                        0.566486   \n",
              "\n",
              "   ratio_to_median_purchase_price  repeat_retailer  used_chip  \\\n",
              "0                        1.945940              1.0        1.0   \n",
              "1                        1.294219              1.0        0.0   \n",
              "2                        0.427715              1.0        0.0   \n",
              "3                        0.362663              1.0        1.0   \n",
              "4                        2.222767              1.0        1.0   \n",
              "\n",
              "   used_pin_number  online_order  fraud  \n",
              "0              0.0           0.0    0.0  \n",
              "1              0.0           0.0    0.0  \n",
              "2              0.0           1.0    0.0  \n",
              "3              0.0           1.0    0.0  \n",
              "4              0.0           1.0    0.0  "
            ],
            "text/html": [
              "\n",
              "  <div id=\"df-b1217966-b0ec-43ce-8846-29a348eece5c\">\n",
              "    <div class=\"colab-df-container\">\n",
              "      <div>\n",
              "<style scoped>\n",
              "    .dataframe tbody tr th:only-of-type {\n",
              "        vertical-align: middle;\n",
              "    }\n",
              "\n",
              "    .dataframe tbody tr th {\n",
              "        vertical-align: top;\n",
              "    }\n",
              "\n",
              "    .dataframe thead th {\n",
              "        text-align: right;\n",
              "    }\n",
              "</style>\n",
              "<table border=\"1\" class=\"dataframe\">\n",
              "  <thead>\n",
              "    <tr style=\"text-align: right;\">\n",
              "      <th></th>\n",
              "      <th>distance_from_home</th>\n",
              "      <th>distance_from_last_transaction</th>\n",
              "      <th>ratio_to_median_purchase_price</th>\n",
              "      <th>repeat_retailer</th>\n",
              "      <th>used_chip</th>\n",
              "      <th>used_pin_number</th>\n",
              "      <th>online_order</th>\n",
              "      <th>fraud</th>\n",
              "    </tr>\n",
              "  </thead>\n",
              "  <tbody>\n",
              "    <tr>\n",
              "      <th>0</th>\n",
              "      <td>57.877857</td>\n",
              "      <td>0.311140</td>\n",
              "      <td>1.945940</td>\n",
              "      <td>1.0</td>\n",
              "      <td>1.0</td>\n",
              "      <td>0.0</td>\n",
              "      <td>0.0</td>\n",
              "      <td>0.0</td>\n",
              "    </tr>\n",
              "    <tr>\n",
              "      <th>1</th>\n",
              "      <td>10.829943</td>\n",
              "      <td>0.175592</td>\n",
              "      <td>1.294219</td>\n",
              "      <td>1.0</td>\n",
              "      <td>0.0</td>\n",
              "      <td>0.0</td>\n",
              "      <td>0.0</td>\n",
              "      <td>0.0</td>\n",
              "    </tr>\n",
              "    <tr>\n",
              "      <th>2</th>\n",
              "      <td>5.091079</td>\n",
              "      <td>0.805153</td>\n",
              "      <td>0.427715</td>\n",
              "      <td>1.0</td>\n",
              "      <td>0.0</td>\n",
              "      <td>0.0</td>\n",
              "      <td>1.0</td>\n",
              "      <td>0.0</td>\n",
              "    </tr>\n",
              "    <tr>\n",
              "      <th>3</th>\n",
              "      <td>2.247564</td>\n",
              "      <td>5.600044</td>\n",
              "      <td>0.362663</td>\n",
              "      <td>1.0</td>\n",
              "      <td>1.0</td>\n",
              "      <td>0.0</td>\n",
              "      <td>1.0</td>\n",
              "      <td>0.0</td>\n",
              "    </tr>\n",
              "    <tr>\n",
              "      <th>4</th>\n",
              "      <td>44.190936</td>\n",
              "      <td>0.566486</td>\n",
              "      <td>2.222767</td>\n",
              "      <td>1.0</td>\n",
              "      <td>1.0</td>\n",
              "      <td>0.0</td>\n",
              "      <td>1.0</td>\n",
              "      <td>0.0</td>\n",
              "    </tr>\n",
              "  </tbody>\n",
              "</table>\n",
              "</div>\n",
              "      <button class=\"colab-df-convert\" onclick=\"convertToInteractive('df-b1217966-b0ec-43ce-8846-29a348eece5c')\"\n",
              "              title=\"Convert this dataframe to an interactive table.\"\n",
              "              style=\"display:none;\">\n",
              "        \n",
              "  <svg xmlns=\"http://www.w3.org/2000/svg\" height=\"24px\"viewBox=\"0 0 24 24\"\n",
              "       width=\"24px\">\n",
              "    <path d=\"M0 0h24v24H0V0z\" fill=\"none\"/>\n",
              "    <path d=\"M18.56 5.44l.94 2.06.94-2.06 2.06-.94-2.06-.94-.94-2.06-.94 2.06-2.06.94zm-11 1L8.5 8.5l.94-2.06 2.06-.94-2.06-.94L8.5 2.5l-.94 2.06-2.06.94zm10 10l.94 2.06.94-2.06 2.06-.94-2.06-.94-.94-2.06-.94 2.06-2.06.94z\"/><path d=\"M17.41 7.96l-1.37-1.37c-.4-.4-.92-.59-1.43-.59-.52 0-1.04.2-1.43.59L10.3 9.45l-7.72 7.72c-.78.78-.78 2.05 0 2.83L4 21.41c.39.39.9.59 1.41.59.51 0 1.02-.2 1.41-.59l7.78-7.78 2.81-2.81c.8-.78.8-2.07 0-2.86zM5.41 20L4 18.59l7.72-7.72 1.47 1.35L5.41 20z\"/>\n",
              "  </svg>\n",
              "      </button>\n",
              "      \n",
              "  <style>\n",
              "    .colab-df-container {\n",
              "      display:flex;\n",
              "      flex-wrap:wrap;\n",
              "      gap: 12px;\n",
              "    }\n",
              "\n",
              "    .colab-df-convert {\n",
              "      background-color: #E8F0FE;\n",
              "      border: none;\n",
              "      border-radius: 50%;\n",
              "      cursor: pointer;\n",
              "      display: none;\n",
              "      fill: #1967D2;\n",
              "      height: 32px;\n",
              "      padding: 0 0 0 0;\n",
              "      width: 32px;\n",
              "    }\n",
              "\n",
              "    .colab-df-convert:hover {\n",
              "      background-color: #E2EBFA;\n",
              "      box-shadow: 0px 1px 2px rgba(60, 64, 67, 0.3), 0px 1px 3px 1px rgba(60, 64, 67, 0.15);\n",
              "      fill: #174EA6;\n",
              "    }\n",
              "\n",
              "    [theme=dark] .colab-df-convert {\n",
              "      background-color: #3B4455;\n",
              "      fill: #D2E3FC;\n",
              "    }\n",
              "\n",
              "    [theme=dark] .colab-df-convert:hover {\n",
              "      background-color: #434B5C;\n",
              "      box-shadow: 0px 1px 3px 1px rgba(0, 0, 0, 0.15);\n",
              "      filter: drop-shadow(0px 1px 2px rgba(0, 0, 0, 0.3));\n",
              "      fill: #FFFFFF;\n",
              "    }\n",
              "  </style>\n",
              "\n",
              "      <script>\n",
              "        const buttonEl =\n",
              "          document.querySelector('#df-b1217966-b0ec-43ce-8846-29a348eece5c button.colab-df-convert');\n",
              "        buttonEl.style.display =\n",
              "          google.colab.kernel.accessAllowed ? 'block' : 'none';\n",
              "\n",
              "        async function convertToInteractive(key) {\n",
              "          const element = document.querySelector('#df-b1217966-b0ec-43ce-8846-29a348eece5c');\n",
              "          const dataTable =\n",
              "            await google.colab.kernel.invokeFunction('convertToInteractive',\n",
              "                                                     [key], {});\n",
              "          if (!dataTable) return;\n",
              "\n",
              "          const docLinkHtml = 'Like what you see? Visit the ' +\n",
              "            '<a target=\"_blank\" href=https://colab.research.google.com/notebooks/data_table.ipynb>data table notebook</a>'\n",
              "            + ' to learn more about interactive tables.';\n",
              "          element.innerHTML = '';\n",
              "          dataTable['output_type'] = 'display_data';\n",
              "          await google.colab.output.renderOutput(dataTable, element);\n",
              "          const docLink = document.createElement('div');\n",
              "          docLink.innerHTML = docLinkHtml;\n",
              "          element.appendChild(docLink);\n",
              "        }\n",
              "      </script>\n",
              "    </div>\n",
              "  </div>\n",
              "  "
            ]
          },
          "metadata": {},
          "execution_count": 3
        }
      ]
    },
    {
      "cell_type": "code",
      "source": [
        "# Dados do df\n",
        "df.info()"
      ],
      "metadata": {
        "colab": {
          "base_uri": "https://localhost:8080/"
        },
        "id": "Nx7Y8lxmdoq0",
        "outputId": "3018982e-2ff8-480a-c77b-23e7c46d2763"
      },
      "execution_count": null,
      "outputs": [
        {
          "output_type": "stream",
          "name": "stdout",
          "text": [
            "<class 'pandas.core.frame.DataFrame'>\n",
            "RangeIndex: 1000000 entries, 0 to 999999\n",
            "Data columns (total 8 columns):\n",
            " #   Column                          Non-Null Count    Dtype  \n",
            "---  ------                          --------------    -----  \n",
            " 0   distance_from_home              1000000 non-null  float64\n",
            " 1   distance_from_last_transaction  1000000 non-null  float64\n",
            " 2   ratio_to_median_purchase_price  1000000 non-null  float64\n",
            " 3   repeat_retailer                 1000000 non-null  float64\n",
            " 4   used_chip                       1000000 non-null  float64\n",
            " 5   used_pin_number                 1000000 non-null  float64\n",
            " 6   online_order                    1000000 non-null  float64\n",
            " 7   fraud                           1000000 non-null  float64\n",
            "dtypes: float64(8)\n",
            "memory usage: 61.0 MB\n"
          ]
        }
      ]
    },
    {
      "cell_type": "markdown",
      "source": [
        "Analisando os dados apresentados acima, é possível verificar que o *dataframe* (df) usado não possui valores nulos em nenhuma das colunas.\n",
        "\n",
        "Vamos agora verificar se há duplicatas:"
      ],
      "metadata": {
        "id": "8bF5hxtidzOj"
      }
    },
    {
      "cell_type": "code",
      "source": [
        "# Verificação de duplicatas\n",
        "df.nunique()"
      ],
      "metadata": {
        "colab": {
          "base_uri": "https://localhost:8080/"
        },
        "id": "smWd3BbwSi4e",
        "outputId": "264524e9-956d-44af-b3ac-2de54aa67855"
      },
      "execution_count": null,
      "outputs": [
        {
          "output_type": "execute_result",
          "data": {
            "text/plain": [
              "distance_from_home                1000000\n",
              "distance_from_last_transaction    1000000\n",
              "ratio_to_median_purchase_price    1000000\n",
              "repeat_retailer                         2\n",
              "used_chip                               2\n",
              "used_pin_number                         2\n",
              "online_order                            2\n",
              "fraud                                   2\n",
              "dtype: int64"
            ]
          },
          "metadata": {},
          "execution_count": 5
        }
      ]
    },
    {
      "cell_type": "markdown",
      "source": [
        "É possível verificar que não há duplicatas neste *dataframe*, uma vez que as colunas \"*distance_from_home*\", \"*distance_from_last_transaction*\" e \"*ratio_to_median_purchase_price*\" possuem todos os valores distintos. Logo, nosso *dataframe* não possui duplicatas e nem valores *NaN*.\n",
        "\n",
        "Continuando, será feita uma breve análise estatística dos dados."
      ],
      "metadata": {
        "id": "D8jBJ1GTYkN1"
      }
    },
    {
      "cell_type": "code",
      "source": [
        "# Descrição Estatística\n",
        "df.describe()"
      ],
      "metadata": {
        "id": "fPmzBtD9ebz9",
        "colab": {
          "base_uri": "https://localhost:8080/",
          "height": 364
        },
        "outputId": "7678e767-b8ae-47ef-93c6-c9456f9396ae"
      },
      "execution_count": null,
      "outputs": [
        {
          "output_type": "execute_result",
          "data": {
            "text/plain": [
              "       distance_from_home  distance_from_last_transaction  \\\n",
              "count      1000000.000000                  1000000.000000   \n",
              "mean            26.628792                        5.036519   \n",
              "std             65.390784                       25.843093   \n",
              "min              0.004874                        0.000118   \n",
              "25%              3.878008                        0.296671   \n",
              "50%              9.967760                        0.998650   \n",
              "75%             25.743985                        3.355748   \n",
              "max          10632.723672                    11851.104565   \n",
              "\n",
              "       ratio_to_median_purchase_price  repeat_retailer       used_chip  \\\n",
              "count                  1000000.000000   1000000.000000  1000000.000000   \n",
              "mean                         1.824182         0.881536        0.350399   \n",
              "std                          2.799589         0.323157        0.477095   \n",
              "min                          0.004399         0.000000        0.000000   \n",
              "25%                          0.475673         1.000000        0.000000   \n",
              "50%                          0.997717         1.000000        0.000000   \n",
              "75%                          2.096370         1.000000        1.000000   \n",
              "max                        267.802942         1.000000        1.000000   \n",
              "\n",
              "       used_pin_number    online_order           fraud  \n",
              "count   1000000.000000  1000000.000000  1000000.000000  \n",
              "mean          0.100608        0.650552        0.087403  \n",
              "std           0.300809        0.476796        0.282425  \n",
              "min           0.000000        0.000000        0.000000  \n",
              "25%           0.000000        0.000000        0.000000  \n",
              "50%           0.000000        1.000000        0.000000  \n",
              "75%           0.000000        1.000000        0.000000  \n",
              "max           1.000000        1.000000        1.000000  "
            ],
            "text/html": [
              "\n",
              "  <div id=\"df-dcc2f86f-3a97-45a1-87c8-7af7512952c5\">\n",
              "    <div class=\"colab-df-container\">\n",
              "      <div>\n",
              "<style scoped>\n",
              "    .dataframe tbody tr th:only-of-type {\n",
              "        vertical-align: middle;\n",
              "    }\n",
              "\n",
              "    .dataframe tbody tr th {\n",
              "        vertical-align: top;\n",
              "    }\n",
              "\n",
              "    .dataframe thead th {\n",
              "        text-align: right;\n",
              "    }\n",
              "</style>\n",
              "<table border=\"1\" class=\"dataframe\">\n",
              "  <thead>\n",
              "    <tr style=\"text-align: right;\">\n",
              "      <th></th>\n",
              "      <th>distance_from_home</th>\n",
              "      <th>distance_from_last_transaction</th>\n",
              "      <th>ratio_to_median_purchase_price</th>\n",
              "      <th>repeat_retailer</th>\n",
              "      <th>used_chip</th>\n",
              "      <th>used_pin_number</th>\n",
              "      <th>online_order</th>\n",
              "      <th>fraud</th>\n",
              "    </tr>\n",
              "  </thead>\n",
              "  <tbody>\n",
              "    <tr>\n",
              "      <th>count</th>\n",
              "      <td>1000000.000000</td>\n",
              "      <td>1000000.000000</td>\n",
              "      <td>1000000.000000</td>\n",
              "      <td>1000000.000000</td>\n",
              "      <td>1000000.000000</td>\n",
              "      <td>1000000.000000</td>\n",
              "      <td>1000000.000000</td>\n",
              "      <td>1000000.000000</td>\n",
              "    </tr>\n",
              "    <tr>\n",
              "      <th>mean</th>\n",
              "      <td>26.628792</td>\n",
              "      <td>5.036519</td>\n",
              "      <td>1.824182</td>\n",
              "      <td>0.881536</td>\n",
              "      <td>0.350399</td>\n",
              "      <td>0.100608</td>\n",
              "      <td>0.650552</td>\n",
              "      <td>0.087403</td>\n",
              "    </tr>\n",
              "    <tr>\n",
              "      <th>std</th>\n",
              "      <td>65.390784</td>\n",
              "      <td>25.843093</td>\n",
              "      <td>2.799589</td>\n",
              "      <td>0.323157</td>\n",
              "      <td>0.477095</td>\n",
              "      <td>0.300809</td>\n",
              "      <td>0.476796</td>\n",
              "      <td>0.282425</td>\n",
              "    </tr>\n",
              "    <tr>\n",
              "      <th>min</th>\n",
              "      <td>0.004874</td>\n",
              "      <td>0.000118</td>\n",
              "      <td>0.004399</td>\n",
              "      <td>0.000000</td>\n",
              "      <td>0.000000</td>\n",
              "      <td>0.000000</td>\n",
              "      <td>0.000000</td>\n",
              "      <td>0.000000</td>\n",
              "    </tr>\n",
              "    <tr>\n",
              "      <th>25%</th>\n",
              "      <td>3.878008</td>\n",
              "      <td>0.296671</td>\n",
              "      <td>0.475673</td>\n",
              "      <td>1.000000</td>\n",
              "      <td>0.000000</td>\n",
              "      <td>0.000000</td>\n",
              "      <td>0.000000</td>\n",
              "      <td>0.000000</td>\n",
              "    </tr>\n",
              "    <tr>\n",
              "      <th>50%</th>\n",
              "      <td>9.967760</td>\n",
              "      <td>0.998650</td>\n",
              "      <td>0.997717</td>\n",
              "      <td>1.000000</td>\n",
              "      <td>0.000000</td>\n",
              "      <td>0.000000</td>\n",
              "      <td>1.000000</td>\n",
              "      <td>0.000000</td>\n",
              "    </tr>\n",
              "    <tr>\n",
              "      <th>75%</th>\n",
              "      <td>25.743985</td>\n",
              "      <td>3.355748</td>\n",
              "      <td>2.096370</td>\n",
              "      <td>1.000000</td>\n",
              "      <td>1.000000</td>\n",
              "      <td>0.000000</td>\n",
              "      <td>1.000000</td>\n",
              "      <td>0.000000</td>\n",
              "    </tr>\n",
              "    <tr>\n",
              "      <th>max</th>\n",
              "      <td>10632.723672</td>\n",
              "      <td>11851.104565</td>\n",
              "      <td>267.802942</td>\n",
              "      <td>1.000000</td>\n",
              "      <td>1.000000</td>\n",
              "      <td>1.000000</td>\n",
              "      <td>1.000000</td>\n",
              "      <td>1.000000</td>\n",
              "    </tr>\n",
              "  </tbody>\n",
              "</table>\n",
              "</div>\n",
              "      <button class=\"colab-df-convert\" onclick=\"convertToInteractive('df-dcc2f86f-3a97-45a1-87c8-7af7512952c5')\"\n",
              "              title=\"Convert this dataframe to an interactive table.\"\n",
              "              style=\"display:none;\">\n",
              "        \n",
              "  <svg xmlns=\"http://www.w3.org/2000/svg\" height=\"24px\"viewBox=\"0 0 24 24\"\n",
              "       width=\"24px\">\n",
              "    <path d=\"M0 0h24v24H0V0z\" fill=\"none\"/>\n",
              "    <path d=\"M18.56 5.44l.94 2.06.94-2.06 2.06-.94-2.06-.94-.94-2.06-.94 2.06-2.06.94zm-11 1L8.5 8.5l.94-2.06 2.06-.94-2.06-.94L8.5 2.5l-.94 2.06-2.06.94zm10 10l.94 2.06.94-2.06 2.06-.94-2.06-.94-.94-2.06-.94 2.06-2.06.94z\"/><path d=\"M17.41 7.96l-1.37-1.37c-.4-.4-.92-.59-1.43-.59-.52 0-1.04.2-1.43.59L10.3 9.45l-7.72 7.72c-.78.78-.78 2.05 0 2.83L4 21.41c.39.39.9.59 1.41.59.51 0 1.02-.2 1.41-.59l7.78-7.78 2.81-2.81c.8-.78.8-2.07 0-2.86zM5.41 20L4 18.59l7.72-7.72 1.47 1.35L5.41 20z\"/>\n",
              "  </svg>\n",
              "      </button>\n",
              "      \n",
              "  <style>\n",
              "    .colab-df-container {\n",
              "      display:flex;\n",
              "      flex-wrap:wrap;\n",
              "      gap: 12px;\n",
              "    }\n",
              "\n",
              "    .colab-df-convert {\n",
              "      background-color: #E8F0FE;\n",
              "      border: none;\n",
              "      border-radius: 50%;\n",
              "      cursor: pointer;\n",
              "      display: none;\n",
              "      fill: #1967D2;\n",
              "      height: 32px;\n",
              "      padding: 0 0 0 0;\n",
              "      width: 32px;\n",
              "    }\n",
              "\n",
              "    .colab-df-convert:hover {\n",
              "      background-color: #E2EBFA;\n",
              "      box-shadow: 0px 1px 2px rgba(60, 64, 67, 0.3), 0px 1px 3px 1px rgba(60, 64, 67, 0.15);\n",
              "      fill: #174EA6;\n",
              "    }\n",
              "\n",
              "    [theme=dark] .colab-df-convert {\n",
              "      background-color: #3B4455;\n",
              "      fill: #D2E3FC;\n",
              "    }\n",
              "\n",
              "    [theme=dark] .colab-df-convert:hover {\n",
              "      background-color: #434B5C;\n",
              "      box-shadow: 0px 1px 3px 1px rgba(0, 0, 0, 0.15);\n",
              "      filter: drop-shadow(0px 1px 2px rgba(0, 0, 0, 0.3));\n",
              "      fill: #FFFFFF;\n",
              "    }\n",
              "  </style>\n",
              "\n",
              "      <script>\n",
              "        const buttonEl =\n",
              "          document.querySelector('#df-dcc2f86f-3a97-45a1-87c8-7af7512952c5 button.colab-df-convert');\n",
              "        buttonEl.style.display =\n",
              "          google.colab.kernel.accessAllowed ? 'block' : 'none';\n",
              "\n",
              "        async function convertToInteractive(key) {\n",
              "          const element = document.querySelector('#df-dcc2f86f-3a97-45a1-87c8-7af7512952c5');\n",
              "          const dataTable =\n",
              "            await google.colab.kernel.invokeFunction('convertToInteractive',\n",
              "                                                     [key], {});\n",
              "          if (!dataTable) return;\n",
              "\n",
              "          const docLinkHtml = 'Like what you see? Visit the ' +\n",
              "            '<a target=\"_blank\" href=https://colab.research.google.com/notebooks/data_table.ipynb>data table notebook</a>'\n",
              "            + ' to learn more about interactive tables.';\n",
              "          element.innerHTML = '';\n",
              "          dataTable['output_type'] = 'display_data';\n",
              "          await google.colab.output.renderOutput(dataTable, element);\n",
              "          const docLink = document.createElement('div');\n",
              "          docLink.innerHTML = docLinkHtml;\n",
              "          element.appendChild(docLink);\n",
              "        }\n",
              "      </script>\n",
              "    </div>\n",
              "  </div>\n",
              "  "
            ]
          },
          "metadata": {},
          "execution_count": 6
        }
      ]
    },
    {
      "cell_type": "markdown",
      "source": [
        "Após breve análise, é possível notar que:\n",
        "\n",
        "\n",
        "*   A maioria das compras foram feitas com o mesmo vendedor/loja;\n",
        "*   Mais de 75% das compras foram feitas sem o uso do *PIN number*;\n",
        "*   Mais de 50% das compras não foram feitas usando o *chip*;\n",
        "*   Parece que há balanceamento entre as compras feitas *online* e nas lojas físicas;\n",
        "*   Há mais de 75% de compras não fraudulentas neste *dataset*."
      ],
      "metadata": {
        "id": "EC5gdxE9gsnz"
      }
    },
    {
      "cell_type": "markdown",
      "source": [
        "A correlação das *features* pode ser visualizada através da tabela ou de um *heatmap*:"
      ],
      "metadata": {
        "id": "dRpqo2ldnVuf"
      }
    },
    {
      "cell_type": "code",
      "source": [
        "# Correlação entre as Features\n",
        "df.corr()"
      ],
      "metadata": {
        "colab": {
          "base_uri": "https://localhost:8080/",
          "height": 364
        },
        "id": "nSxD_HyBqJFH",
        "outputId": "7f98a137-2040-4ea3-80cd-c62365c42943"
      },
      "execution_count": null,
      "outputs": [
        {
          "output_type": "execute_result",
          "data": {
            "text/plain": [
              "                                distance_from_home  \\\n",
              "distance_from_home                        1.000000   \n",
              "distance_from_last_transaction            0.000193   \n",
              "ratio_to_median_purchase_price           -0.001374   \n",
              "repeat_retailer                           0.143124   \n",
              "used_chip                                -0.000697   \n",
              "used_pin_number                          -0.001622   \n",
              "online_order                             -0.001301   \n",
              "fraud                                     0.187571   \n",
              "\n",
              "                                distance_from_last_transaction  \\\n",
              "distance_from_home                                    0.000193   \n",
              "distance_from_last_transaction                        1.000000   \n",
              "ratio_to_median_purchase_price                        0.001013   \n",
              "repeat_retailer                                      -0.000928   \n",
              "used_chip                                             0.002055   \n",
              "used_pin_number                                      -0.000899   \n",
              "online_order                                          0.000141   \n",
              "fraud                                                 0.091917   \n",
              "\n",
              "                                ratio_to_median_purchase_price  \\\n",
              "distance_from_home                                   -0.001374   \n",
              "distance_from_last_transaction                        0.001013   \n",
              "ratio_to_median_purchase_price                        1.000000   \n",
              "repeat_retailer                                       0.001374   \n",
              "used_chip                                             0.000587   \n",
              "used_pin_number                                       0.000942   \n",
              "online_order                                         -0.000330   \n",
              "fraud                                                 0.462305   \n",
              "\n",
              "                                repeat_retailer  used_chip  used_pin_number  \\\n",
              "distance_from_home                     0.143124  -0.000697        -0.001622   \n",
              "distance_from_last_transaction        -0.000928   0.002055        -0.000899   \n",
              "ratio_to_median_purchase_price         0.001374   0.000587         0.000942   \n",
              "repeat_retailer                        1.000000  -0.001345        -0.000417   \n",
              "used_chip                             -0.001345   1.000000        -0.001393   \n",
              "used_pin_number                       -0.000417  -0.001393         1.000000   \n",
              "online_order                          -0.000532  -0.000219        -0.000291   \n",
              "fraud                                 -0.001357  -0.060975        -0.100293   \n",
              "\n",
              "                                online_order     fraud  \n",
              "distance_from_home                 -0.001301  0.187571  \n",
              "distance_from_last_transaction      0.000141  0.091917  \n",
              "ratio_to_median_purchase_price     -0.000330  0.462305  \n",
              "repeat_retailer                    -0.000532 -0.001357  \n",
              "used_chip                          -0.000219 -0.060975  \n",
              "used_pin_number                    -0.000291 -0.100293  \n",
              "online_order                        1.000000  0.191973  \n",
              "fraud                               0.191973  1.000000  "
            ],
            "text/html": [
              "\n",
              "  <div id=\"df-e1f3af30-ced4-42b1-948a-6efdf1628e7f\">\n",
              "    <div class=\"colab-df-container\">\n",
              "      <div>\n",
              "<style scoped>\n",
              "    .dataframe tbody tr th:only-of-type {\n",
              "        vertical-align: middle;\n",
              "    }\n",
              "\n",
              "    .dataframe tbody tr th {\n",
              "        vertical-align: top;\n",
              "    }\n",
              "\n",
              "    .dataframe thead th {\n",
              "        text-align: right;\n",
              "    }\n",
              "</style>\n",
              "<table border=\"1\" class=\"dataframe\">\n",
              "  <thead>\n",
              "    <tr style=\"text-align: right;\">\n",
              "      <th></th>\n",
              "      <th>distance_from_home</th>\n",
              "      <th>distance_from_last_transaction</th>\n",
              "      <th>ratio_to_median_purchase_price</th>\n",
              "      <th>repeat_retailer</th>\n",
              "      <th>used_chip</th>\n",
              "      <th>used_pin_number</th>\n",
              "      <th>online_order</th>\n",
              "      <th>fraud</th>\n",
              "    </tr>\n",
              "  </thead>\n",
              "  <tbody>\n",
              "    <tr>\n",
              "      <th>distance_from_home</th>\n",
              "      <td>1.000000</td>\n",
              "      <td>0.000193</td>\n",
              "      <td>-0.001374</td>\n",
              "      <td>0.143124</td>\n",
              "      <td>-0.000697</td>\n",
              "      <td>-0.001622</td>\n",
              "      <td>-0.001301</td>\n",
              "      <td>0.187571</td>\n",
              "    </tr>\n",
              "    <tr>\n",
              "      <th>distance_from_last_transaction</th>\n",
              "      <td>0.000193</td>\n",
              "      <td>1.000000</td>\n",
              "      <td>0.001013</td>\n",
              "      <td>-0.000928</td>\n",
              "      <td>0.002055</td>\n",
              "      <td>-0.000899</td>\n",
              "      <td>0.000141</td>\n",
              "      <td>0.091917</td>\n",
              "    </tr>\n",
              "    <tr>\n",
              "      <th>ratio_to_median_purchase_price</th>\n",
              "      <td>-0.001374</td>\n",
              "      <td>0.001013</td>\n",
              "      <td>1.000000</td>\n",
              "      <td>0.001374</td>\n",
              "      <td>0.000587</td>\n",
              "      <td>0.000942</td>\n",
              "      <td>-0.000330</td>\n",
              "      <td>0.462305</td>\n",
              "    </tr>\n",
              "    <tr>\n",
              "      <th>repeat_retailer</th>\n",
              "      <td>0.143124</td>\n",
              "      <td>-0.000928</td>\n",
              "      <td>0.001374</td>\n",
              "      <td>1.000000</td>\n",
              "      <td>-0.001345</td>\n",
              "      <td>-0.000417</td>\n",
              "      <td>-0.000532</td>\n",
              "      <td>-0.001357</td>\n",
              "    </tr>\n",
              "    <tr>\n",
              "      <th>used_chip</th>\n",
              "      <td>-0.000697</td>\n",
              "      <td>0.002055</td>\n",
              "      <td>0.000587</td>\n",
              "      <td>-0.001345</td>\n",
              "      <td>1.000000</td>\n",
              "      <td>-0.001393</td>\n",
              "      <td>-0.000219</td>\n",
              "      <td>-0.060975</td>\n",
              "    </tr>\n",
              "    <tr>\n",
              "      <th>used_pin_number</th>\n",
              "      <td>-0.001622</td>\n",
              "      <td>-0.000899</td>\n",
              "      <td>0.000942</td>\n",
              "      <td>-0.000417</td>\n",
              "      <td>-0.001393</td>\n",
              "      <td>1.000000</td>\n",
              "      <td>-0.000291</td>\n",
              "      <td>-0.100293</td>\n",
              "    </tr>\n",
              "    <tr>\n",
              "      <th>online_order</th>\n",
              "      <td>-0.001301</td>\n",
              "      <td>0.000141</td>\n",
              "      <td>-0.000330</td>\n",
              "      <td>-0.000532</td>\n",
              "      <td>-0.000219</td>\n",
              "      <td>-0.000291</td>\n",
              "      <td>1.000000</td>\n",
              "      <td>0.191973</td>\n",
              "    </tr>\n",
              "    <tr>\n",
              "      <th>fraud</th>\n",
              "      <td>0.187571</td>\n",
              "      <td>0.091917</td>\n",
              "      <td>0.462305</td>\n",
              "      <td>-0.001357</td>\n",
              "      <td>-0.060975</td>\n",
              "      <td>-0.100293</td>\n",
              "      <td>0.191973</td>\n",
              "      <td>1.000000</td>\n",
              "    </tr>\n",
              "  </tbody>\n",
              "</table>\n",
              "</div>\n",
              "      <button class=\"colab-df-convert\" onclick=\"convertToInteractive('df-e1f3af30-ced4-42b1-948a-6efdf1628e7f')\"\n",
              "              title=\"Convert this dataframe to an interactive table.\"\n",
              "              style=\"display:none;\">\n",
              "        \n",
              "  <svg xmlns=\"http://www.w3.org/2000/svg\" height=\"24px\"viewBox=\"0 0 24 24\"\n",
              "       width=\"24px\">\n",
              "    <path d=\"M0 0h24v24H0V0z\" fill=\"none\"/>\n",
              "    <path d=\"M18.56 5.44l.94 2.06.94-2.06 2.06-.94-2.06-.94-.94-2.06-.94 2.06-2.06.94zm-11 1L8.5 8.5l.94-2.06 2.06-.94-2.06-.94L8.5 2.5l-.94 2.06-2.06.94zm10 10l.94 2.06.94-2.06 2.06-.94-2.06-.94-.94-2.06-.94 2.06-2.06.94z\"/><path d=\"M17.41 7.96l-1.37-1.37c-.4-.4-.92-.59-1.43-.59-.52 0-1.04.2-1.43.59L10.3 9.45l-7.72 7.72c-.78.78-.78 2.05 0 2.83L4 21.41c.39.39.9.59 1.41.59.51 0 1.02-.2 1.41-.59l7.78-7.78 2.81-2.81c.8-.78.8-2.07 0-2.86zM5.41 20L4 18.59l7.72-7.72 1.47 1.35L5.41 20z\"/>\n",
              "  </svg>\n",
              "      </button>\n",
              "      \n",
              "  <style>\n",
              "    .colab-df-container {\n",
              "      display:flex;\n",
              "      flex-wrap:wrap;\n",
              "      gap: 12px;\n",
              "    }\n",
              "\n",
              "    .colab-df-convert {\n",
              "      background-color: #E8F0FE;\n",
              "      border: none;\n",
              "      border-radius: 50%;\n",
              "      cursor: pointer;\n",
              "      display: none;\n",
              "      fill: #1967D2;\n",
              "      height: 32px;\n",
              "      padding: 0 0 0 0;\n",
              "      width: 32px;\n",
              "    }\n",
              "\n",
              "    .colab-df-convert:hover {\n",
              "      background-color: #E2EBFA;\n",
              "      box-shadow: 0px 1px 2px rgba(60, 64, 67, 0.3), 0px 1px 3px 1px rgba(60, 64, 67, 0.15);\n",
              "      fill: #174EA6;\n",
              "    }\n",
              "\n",
              "    [theme=dark] .colab-df-convert {\n",
              "      background-color: #3B4455;\n",
              "      fill: #D2E3FC;\n",
              "    }\n",
              "\n",
              "    [theme=dark] .colab-df-convert:hover {\n",
              "      background-color: #434B5C;\n",
              "      box-shadow: 0px 1px 3px 1px rgba(0, 0, 0, 0.15);\n",
              "      filter: drop-shadow(0px 1px 2px rgba(0, 0, 0, 0.3));\n",
              "      fill: #FFFFFF;\n",
              "    }\n",
              "  </style>\n",
              "\n",
              "      <script>\n",
              "        const buttonEl =\n",
              "          document.querySelector('#df-e1f3af30-ced4-42b1-948a-6efdf1628e7f button.colab-df-convert');\n",
              "        buttonEl.style.display =\n",
              "          google.colab.kernel.accessAllowed ? 'block' : 'none';\n",
              "\n",
              "        async function convertToInteractive(key) {\n",
              "          const element = document.querySelector('#df-e1f3af30-ced4-42b1-948a-6efdf1628e7f');\n",
              "          const dataTable =\n",
              "            await google.colab.kernel.invokeFunction('convertToInteractive',\n",
              "                                                     [key], {});\n",
              "          if (!dataTable) return;\n",
              "\n",
              "          const docLinkHtml = 'Like what you see? Visit the ' +\n",
              "            '<a target=\"_blank\" href=https://colab.research.google.com/notebooks/data_table.ipynb>data table notebook</a>'\n",
              "            + ' to learn more about interactive tables.';\n",
              "          element.innerHTML = '';\n",
              "          dataTable['output_type'] = 'display_data';\n",
              "          await google.colab.output.renderOutput(dataTable, element);\n",
              "          const docLink = document.createElement('div');\n",
              "          docLink.innerHTML = docLinkHtml;\n",
              "          element.appendChild(docLink);\n",
              "        }\n",
              "      </script>\n",
              "    </div>\n",
              "  </div>\n",
              "  "
            ]
          },
          "metadata": {},
          "execution_count": 7
        }
      ]
    },
    {
      "cell_type": "code",
      "source": [
        "# Heatmap\n",
        "plt.figure(figsize=(8,8))\n",
        "sns.heatmap(df.corr(), annot=True, cmap='Oranges')\n",
        "plt.title('Mapa de Correlação', size=14, weight='bold')\n",
        "plt.show()"
      ],
      "metadata": {
        "colab": {
          "base_uri": "https://localhost:8080/",
          "height": 651
        },
        "id": "NK2x_V5XnRKz",
        "outputId": "bf44d7bf-aa5d-4127-cede-53377d409645"
      },
      "execution_count": null,
      "outputs": [
        {
          "output_type": "display_data",
          "data": {
            "text/plain": [
              "<Figure size 576x576 with 2 Axes>"
            ],
            "image/png": "[encoded data removed]"
          },
          "metadata": {
            "needs_background": "light"
          }
        }
      ]
    },
    {
      "cell_type": "markdown",
      "source": [
        "É possível verificar que a *feature* \"*fraud*\" possui a maior correlação com \"*ratio_to_median_purchase_price*\", uma vez que seu valor foi o mais próximo de 1."
      ],
      "metadata": {
        "id": "6_4vxZC5Nm9W"
      }
    },
    {
      "cell_type": "markdown",
      "source": [
        "Antes de serem apresentados mais alguns gráficos, serão calculados alguns valores:"
      ],
      "metadata": {
        "id": "4OkLSkYsjD8P"
      }
    },
    {
      "cell_type": "code",
      "source": [
        "# Cálculo da quantidade (valores reais e porcentagem) de compra com mesmo vendedor\n",
        "# Valores\n",
        "num_repr = len(df[df['repeat_retailer'] == 1])\n",
        "num_nrepr = len(df[df['repeat_retailer'] == 0])\n",
        "\n",
        "# Porcentagens\n",
        "p_repr = (num_repr*100/len(df))\n",
        "p_nrepr = (num_nrepr*100/len(df))\n",
        "\n",
        "# Saída\n",
        "print('\\tInformações Preliminares - Vendedor')\n",
        "print('-'*60)\n",
        "print('Mesmo Vendedor?\\t\\tQuantidade:\\tPorcentagem:')\n",
        "print('-'*60)\n",
        "print('Sim\\t\\t\\t',num_repr,'\\t',p_repr,'%')\n",
        "print('Não\\t\\t\\t',num_nrepr,'\\t',p_nrepr,'%')"
      ],
      "metadata": {
        "colab": {
          "base_uri": "https://localhost:8080/"
        },
        "id": "iHbSPGUb1h1Y",
        "outputId": "c9790119-c469-46e3-a620-b649f63a4bb0"
      },
      "execution_count": null,
      "outputs": [
        {
          "output_type": "stream",
          "name": "stdout",
          "text": [
            "\tInformações Preliminares - Vendedor\n",
            "------------------------------------------------------------\n",
            "Mesmo Vendedor?\t\tQuantidade:\tPorcentagem:\n",
            "------------------------------------------------------------\n",
            "Sim\t\t\t 881536 \t 88.1536 %\n",
            "Não\t\t\t 118464 \t 11.8464 %\n"
          ]
        }
      ]
    },
    {
      "cell_type": "code",
      "source": [
        "# Cálculo da quantidade (valores reais e porcentagem) de compra com chip\n",
        "# Valores\n",
        "num_chip = len(df[df['used_chip'] == 1])\n",
        "num_nchip = len(df[df['used_chip'] == 0])\n",
        "\n",
        "# Porcentagens\n",
        "p_chip = (num_chip*100/len(df))\n",
        "p_nchip = (num_nchip*100/len(df))\n",
        "\n",
        "# Saída\n",
        "print('    Informações Preliminares - Tipo de Cartão')\n",
        "print('-'*50)\n",
        "print('Chip?\\t\\tQuantidade:\\tPorcentagem:')\n",
        "print('-'*50)\n",
        "print('Sim\\t\\t',num_chip,'\\t',p_chip,'%')\n",
        "print('Não\\t\\t',num_nchip,'\\t',p_nchip,'%')"
      ],
      "metadata": {
        "colab": {
          "base_uri": "https://localhost:8080/"
        },
        "id": "Vr0I2sIn-eEU",
        "outputId": "d043bd8c-3596-47f4-9525-aca97dc8923a"
      },
      "execution_count": null,
      "outputs": [
        {
          "output_type": "stream",
          "name": "stdout",
          "text": [
            "    Informações Preliminares - Tipo de Cartão\n",
            "--------------------------------------------------\n",
            "Chip?\t\tQuantidade:\tPorcentagem:\n",
            "--------------------------------------------------\n",
            "Sim\t\t 350399 \t 35.0399 %\n",
            "Não\t\t 649601 \t 64.9601 %\n"
          ]
        }
      ]
    },
    {
      "cell_type": "code",
      "source": [
        "# Cálculo da quantidade (valores reais e porcentagem) de compra com PIN\n",
        "# Valores\n",
        "num_pin = len(df[df['used_pin_number'] == 1])\n",
        "num_npin = len(df[df['used_pin_number'] == 0])\n",
        "\n",
        "# Porcentagens\n",
        "p_pin = (num_pin*100/len(df))\n",
        "p_npin = (num_npin*100/len(df))\n",
        "\n",
        "# Saída\n",
        "print('\\tInformações Preliminares - PIN Number')\n",
        "print('-'*50)\n",
        "print('PIN?\\t\\tQuantidade:\\tPorcentagem:')\n",
        "print('-'*50)\n",
        "print('Sim\\t\\t',num_pin,'\\t',p_pin,'%')\n",
        "print('Não\\t\\t',num_npin,'\\t',p_npin,'%')"
      ],
      "metadata": {
        "colab": {
          "base_uri": "https://localhost:8080/"
        },
        "id": "G8fCGOzg_gtq",
        "outputId": "cc86ba43-858d-4b2f-c31a-f9d9a5a754af"
      },
      "execution_count": null,
      "outputs": [
        {
          "output_type": "stream",
          "name": "stdout",
          "text": [
            "\tInformações Preliminares - PIN Number\n",
            "--------------------------------------------------\n",
            "PIN?\t\tQuantidade:\tPorcentagem:\n",
            "--------------------------------------------------\n",
            "Sim\t\t 100608 \t 10.0608 %\n",
            "Não\t\t 899392 \t 89.9392 %\n"
          ]
        }
      ]
    },
    {
      "cell_type": "code",
      "source": [
        "# Cálculo da quantidade (valores reais e porcentagem) de compras online\n",
        "# Valores\n",
        "num_onl = len(df[df['online_order'] == 1])\n",
        "num_nonl = len(df[df['online_order'] == 0])\n",
        "\n",
        "# Porcentagens\n",
        "p_onl = (num_onl*100/len(df))\n",
        "p_nonl = (num_nonl*100/len(df))\n",
        "\n",
        "# Saída\n",
        "print('\\tInformações Preliminares - Tipo de Venda')\n",
        "print('-'*50)\n",
        "print('Online?\\t\\tQuantidade:\\tPorcentagem:')\n",
        "print('-'*50)\n",
        "print('Sim\\t\\t',num_onl,'\\t',p_onl,'%')\n",
        "print('Não\\t\\t',num_nonl,'\\t',p_nonl,'%')"
      ],
      "metadata": {
        "colab": {
          "base_uri": "https://localhost:8080/"
        },
        "id": "6yfP2uLe_hhn",
        "outputId": "bb7f46f4-fa0b-4276-dbb4-ef76b31533be"
      },
      "execution_count": null,
      "outputs": [
        {
          "output_type": "stream",
          "name": "stdout",
          "text": [
            "\tInformações Preliminares - Tipo de Venda\n",
            "--------------------------------------------------\n",
            "Online?\t\tQuantidade:\tPorcentagem:\n",
            "--------------------------------------------------\n",
            "Sim\t\t 650552 \t 65.0552 %\n",
            "Não\t\t 349448 \t 34.9448 %\n"
          ]
        }
      ]
    },
    {
      "cell_type": "code",
      "source": [
        "# Cálculo da quantidade (valores reais e porcentagem) de fraudes\n",
        "# Valores\n",
        "num_fraud = len(df[df['fraud'] == 1])\n",
        "num_nfraud = len(df[df['fraud'] == 0])\n",
        "\n",
        "# Porcentagens\n",
        "p_fraud = (num_fraud*100/len(df))\n",
        "p_nfraud = (num_nfraud*100/len(df))\n",
        "\n",
        "# Saída\n",
        "print('\\tInformações Preliminares - Fraudes')\n",
        "print('-'*50)\n",
        "print('Tipo:\\t\\tQuantidade:\\tPorcentagem:')\n",
        "print('-'*50)\n",
        "print('Compra\\t\\t',num_nfraud,'\\t',p_nfraud,'%')\n",
        "print('Fraude\\t\\t',num_fraud,'\\t\\t',p_fraud,'%')"
      ],
      "metadata": {
        "colab": {
          "base_uri": "https://localhost:8080/"
        },
        "id": "8f2I7t6FgmUL",
        "outputId": "01322f9a-ee75-4406-da85-a87b45d37c3d"
      },
      "execution_count": null,
      "outputs": [
        {
          "output_type": "stream",
          "name": "stdout",
          "text": [
            "\tInformações Preliminares - Fraudes\n",
            "--------------------------------------------------\n",
            "Tipo:\t\tQuantidade:\tPorcentagem:\n",
            "--------------------------------------------------\n",
            "Compra\t\t 912597 \t 91.2597 %\n",
            "Fraude\t\t 87403 \t\t 8.7403 %\n"
          ]
        }
      ]
    },
    {
      "cell_type": "markdown",
      "source": [
        "Primeiramente, serão analisados os dados relativos à fraude:"
      ],
      "metadata": {
        "id": "prJaCBac4Nil"
      }
    },
    {
      "cell_type": "code",
      "source": [
        "# Gráfico de Pizza - Quantidade de fraudes\n",
        "labels = ['Não Fraudulenta','Fraudulenta']\n",
        "sizes = [num_nfraud, num_fraud]\n",
        "\n",
        "fig1, ax1 = plt.subplots(figsize=(6,6))\n",
        "ax1.pie(sizes, autopct='%1.2f%%', shadow=True, startangle=90)\n",
        "ax1.axis('equal')\n",
        "ax1.legend(labels, title='Tipo de Operação:', loc='center left', bbox_to_anchor=(1,0,0.5,1))\n",
        "ax1.set_title('Compras com Cartão de Crédito', size=14, weight='bold')\n",
        "plt.show()"
      ],
      "metadata": {
        "id": "yT_uhD3-i1aR",
        "colab": {
          "base_uri": "https://localhost:8080/",
          "height": 375
        },
        "outputId": "f779cd50-fd52-4764-d9be-f053bef6839a"
      },
      "execution_count": null,
      "outputs": [
        {
          "output_type": "display_data",
          "data": {
            "text/plain": [
              "<Figure size 432x432 with 1 Axes>"
            ],
            "image/png": "[encoded data removed]"
          },
          "metadata": {}
        }
      ]
    },
    {
      "cell_type": "markdown",
      "source": [
        "É possível observar pelo gráfico (anteriormente) que o *dataset* usado neste trabalho está desbalanceado. Para a primeira parte do trabalho, onde serão feitas apenas as análises preliminares, isso não será um problema.\n",
        "\n",
        "Porém, para a segunda parte, deverão ser feitas algumas abordagens para evitar que os modelos treinados gerem falsas previsões."
      ],
      "metadata": {
        "id": "QmBhawieCO4E"
      }
    },
    {
      "cell_type": "markdown",
      "source": [
        "Plotando os gráficos de algumas *features*, é possível verificar os dados obtidos através do método *describe()*."
      ],
      "metadata": {
        "id": "MeGkcE8Z3gAr"
      }
    },
    {
      "cell_type": "code",
      "source": [
        "# Comparação entre Features - Análise Quantitativa\n",
        "plt.figure(figsize=(20,20))\n",
        "\n",
        "plt.subplot(4,2,1)\n",
        "sns.countplot(x='repeat_retailer', palette='Set1', data=df)\n",
        "plt.title('Compra com o mesmo vendedor?', size=12, weight='bold')\n",
        "\n",
        "plt.subplot(4,2,2)\n",
        "sns.countplot(data=df, x='used_chip', palette='Set1')\n",
        "plt.title('Compra feita com chip?', size=12, weight='bold')\n",
        "\n",
        "plt.subplot(4,2,3)\n",
        "sns.countplot(data=df, x='used_pin_number', palette='Set1')\n",
        "plt.title('Compra feita com PIN Number?', size=12, weight='bold')\n",
        "\n",
        "plt.subplot(4,2,4)\n",
        "sns.countplot(data=df, x='online_order', palette='Set1')\n",
        "plt.title('Compra Online?', size=12, weight='bold')\n",
        "\n",
        "plt.show()"
      ],
      "metadata": {
        "colab": {
          "base_uri": "https://localhost:8080/",
          "height": 599
        },
        "id": "k03k5rqfwCh-",
        "outputId": "3a125867-d136-4f75-a94f-e90d181e05c7"
      },
      "execution_count": null,
      "outputs": [
        {
          "output_type": "display_data",
          "data": {
            "text/plain": [
              "<Figure size 1440x1440 with 4 Axes>"
            ],
            "image/png": "[encoded data removed]"
          },
          "metadata": {
            "needs_background": "light"
          }
        }
      ]
    },
    {
      "cell_type": "markdown",
      "source": [
        "Agora, serão analisados os dados correspondentes apenas às compras *online*."
      ],
      "metadata": {
        "id": "uIncG1lW6LrA"
      }
    },
    {
      "cell_type": "code",
      "source": [
        "# Gráfico de Pizza - Quantidade de Fraudes em Compras Online\n",
        "plt.figure(figsize=(6,6))\n",
        "labels = ['Não Fraudulenta', 'Fraudulenta']\n",
        "colors = ['magenta', 'orange']\n",
        "\n",
        "df.groupby('online_order')['fraud'].sum().plot(kind='pie', autopct='%1.2f%%', colors=colors, shadow=True, startangle=90)\n",
        "plt.title('Fraudes com Cartão de Crédito em Compras Online', size=14, weight='bold')\n",
        "plt.legend(labels, title='Tipo de Operação:', loc='center left', bbox_to_anchor=(1,0,0.5,1))\n",
        "plt.show()"
      ],
      "metadata": {
        "colab": {
          "base_uri": "https://localhost:8080/",
          "height": 375
        },
        "id": "gqH3TDx7Dqhb",
        "outputId": "71e13355-1cd7-4bf3-c576-d4c4f4f21ae9"
      },
      "execution_count": null,
      "outputs": [
        {
          "output_type": "display_data",
          "data": {
            "text/plain": [
              "<Figure size 432x432 with 1 Axes>"
            ],
            "image/png": "[encoded data removed]"
          },
          "metadata": {}
        }
      ]
    },
    {
      "cell_type": "markdown",
      "source": [
        "Nota-se que, quando analisadas apenas as compras feitas *online*, a quantidade de fraudes é ainda menor se comparada aos dados totais."
      ],
      "metadata": {
        "id": "BOUSRL3U632a"
      }
    },
    {
      "cell_type": "code",
      "source": [
        "# Comparação entre Features - Análise Quantitativa\n",
        "plt.figure(figsize = (10,10))\n",
        "\n",
        "plt.subplot(2,2,1)\n",
        "sns.countplot(x='fraud', hue='repeat_retailer', palette='Set2', data=df)\n",
        "plt.title('Compra com o mesmo vendedor?', size=12, weight='bold')\n",
        "\n",
        "plt.subplot(2,2,2)\n",
        "sns.countplot(x='fraud', hue='used_chip', palette='Set2', data=df)\n",
        "plt.title('Compra feita com chip?', size=12, weight='bold')\n",
        "\n",
        "plt.subplot(2,2,3)\n",
        "sns.countplot(x='fraud', hue='used_pin_number', palette='Set2', data=df)\n",
        "plt.title('Compra feita com PIN Number?', size=12, weight='bold')\n",
        "\n",
        "plt.subplot(2,2,4)\n",
        "sns.countplot(x='fraud', hue='online_order', palette='Set2', data=df)\n",
        "plt.title('Compra Online?', size=12, weight='bold')\n",
        "\n",
        "plt.show()"
      ],
      "metadata": {
        "colab": {
          "base_uri": "https://localhost:8080/",
          "height": 621
        },
        "id": "c6df2jaZS5I4",
        "outputId": "61d86779-97da-4dca-e006-384c2c0e9bc2"
      },
      "execution_count": null,
      "outputs": [
        {
          "output_type": "display_data",
          "data": {
            "text/plain": [
              "<Figure size 720x720 with 4 Axes>"
            ],
            "image/png": "[encoded data removed]"
          },
          "metadata": {
            "needs_background": "light"
          }
        }
      ]
    },
    {
      "cell_type": "markdown",
      "source": [
        "Após breve comparação entre os dados totais e os dados referente às compras *online*, nota-se:\n",
        "\n",
        "\n",
        "*   Há mais fraudes nas compras *online* com o mesmo vendedor;\n",
        "*   As fraudes *online* ocorrem mais com consumidores que não usaram o *PIN Number* e nem o *chip*;\n",
        "\n"
      ],
      "metadata": {
        "id": "etSIPsM5JoS2"
      }
    },
    {
      "cell_type": "markdown",
      "source": [
        "Após este breve estudo, serão estudados e treinados alguns modelos."
      ],
      "metadata": {
        "id": "FFpVVu5oyxom"
      }
    },
    {
      "cell_type": "markdown",
      "source": [
        "# 3. Modelos de Machine Learning:\n",
        "\n",
        "Para a análise de modelos de *Machine Learning*, serão analisados os dados de fraudes. Para tal, o *dataset* será dividido em dois, de forma que uma parte (70%) seja usado no treinamento, e o restante (30%) seja usado nos testes."
      ],
      "metadata": {
        "id": "tp7bCpK2gVJc"
      }
    },
    {
      "cell_type": "code",
      "source": [
        "# Importando novas bibliotecas\n",
        "import sklearn\n",
        "from sklearn.model_selection import train_test_split\n",
        "from sklearn.preprocessing import MinMaxScaler\n",
        "from sklearn.metrics import accuracy_score,confusion_matrix,classification_report,roc_curve,roc_auc_score\n",
        "from sklearn.neighbors import KNeighborsClassifier\n",
        "from sklearn.tree import DecisionTreeClassifier\n",
        "from sklearn.linear_model import LogisticRegression"
      ],
      "metadata": {
        "id": "hEsz-9yAiNbS"
      },
      "execution_count": null,
      "outputs": []
    },
    {
      "cell_type": "markdown",
      "source": [
        "## 3.1. Análise Desbalanceada:\n",
        "\n",
        "Nos dois primeiros *notebooks* analisados, os usuários treinaram seus modelos sem fazer qualquer tratamento de balanceamento dos dados. Nesta seção, faremos análises similares."
      ],
      "metadata": {
        "id": "bPLFwGSZdtc2"
      }
    },
    {
      "cell_type": "code",
      "source": [
        "# Dividindo o df\n",
        "input_cols = ['distance_from_home', 'distance_from_last_transaction', 'ratio_to_median_purchase_price',\n",
        "              'repeat_retailer', 'used_chip', 'used_pin_number', 'online_order']\n",
        "target_col = 'fraud'"
      ],
      "metadata": {
        "id": "muH1DhVFjJsI"
      },
      "execution_count": null,
      "outputs": []
    },
    {
      "cell_type": "code",
      "source": [
        "# Definindo os dados de treinamento (70%) e de teste (30%)\n",
        "train_x, test_x, train_y, test_y = train_test_split(df[input_cols], df[target_col], random_state=42, test_size = 0.3)"
      ],
      "metadata": {
        "id": "RV84wsovjX1K"
      },
      "execution_count": null,
      "outputs": []
    },
    {
      "cell_type": "markdown",
      "source": [
        "### 3.1.1. Modelo de Regressão Logística:"
      ],
      "metadata": {
        "id": "f-EPO1Z-dwqE"
      }
    },
    {
      "cell_type": "code",
      "source": [
        "# Regressão Logística\n",
        "lr = LogisticRegression()\n",
        "lr.fit(train_x, train_y)\n",
        "\n",
        "# Saída\n",
        "print(classification_report(test_y, lr.predict(test_x)))"
      ],
      "metadata": {
        "colab": {
          "base_uri": "https://localhost:8080/"
        },
        "id": "kLvYlbwjfVc7",
        "outputId": "0a5197ed-9528-404c-b32c-0ae2d0c792c6"
      },
      "execution_count": null,
      "outputs": [
        {
          "output_type": "stream",
          "name": "stderr",
          "text": [
            "/usr/local/lib/python3.8/dist-packages/sklearn/linear_model/_logistic.py:814: ConvergenceWarning: lbfgs failed to converge (status=1):\n",
            "STOP: TOTAL NO. of ITERATIONS REACHED LIMIT.\n",
            "\n",
            "Increase the number of iterations (max_iter) or scale the data as shown in:\n",
            "    https://scikit-learn.org/stable/modules/preprocessing.html\n",
            "Please also refer to the documentation for alternative solver options:\n",
            "    https://scikit-learn.org/stable/modules/linear_model.html#logistic-regression\n",
            "  n_iter_i = _check_optimize_result(\n"
          ]
        },
        {
          "output_type": "stream",
          "name": "stdout",
          "text": [
            "              precision    recall  f1-score   support\n",
            "\n",
            "         0.0       0.96      0.99      0.98    273871\n",
            "         1.0       0.89      0.60      0.71     26129\n",
            "\n",
            "    accuracy                           0.96    300000\n",
            "   macro avg       0.93      0.80      0.85    300000\n",
            "weighted avg       0.96      0.96      0.95    300000\n",
            "\n"
          ]
        }
      ]
    },
    {
      "cell_type": "markdown",
      "source": [
        "Para a Regressão Logística, temos precisão de 96% e 99% de *recall* para os dados não fraudulentos, a princípio, ótimos resultados.\n",
        "\n",
        "Já quando é feita a análise das fraudes, também temos alta precisão, porém com *recall* de 60% e f1-*score* de 71%."
      ],
      "metadata": {
        "id": "efJMGBicfG31"
      }
    },
    {
      "cell_type": "code",
      "source": [
        "# Matriz de Confusão\n",
        "sns.heatmap(confusion_matrix(test_y, lr.predict(test_x)), annot=True);"
      ],
      "metadata": {
        "colab": {
          "base_uri": "https://localhost:8080/",
          "height": 265
        },
        "id": "aMK8c8Bktm8a",
        "outputId": "55ed960f-3b81-4e9d-d3f1-3ede8fb36abd"
      },
      "execution_count": null,
      "outputs": [
        {
          "output_type": "display_data",
          "data": {
            "text/plain": [
              "<Figure size 432x288 with 2 Axes>"
            ],
            "image/png": "[encoded data removed]"
          },
          "metadata": {
            "needs_background": "light"
          }
        }
      ]
    },
    {
      "cell_type": "markdown",
      "source": [
        "Da matriz de confusão da Regressão Logística, observamos o seguinte:\n",
        "\n",
        "\n",
        "*   Alto valor para *true positive* (270000);\n",
        "*   Valor cerca de 10 vezes menor para *true negative* (16000);\n",
        "*   Valor de *false positive* é da ordem de 1800 casos;\n",
        "*   Valor de *false negative* é cerca de 11000 casos;\n",
        "\n",
        "Aparentemente, mesmo sem o balanceamento dos dados, o modelo de Regressão Logística apresenta resultados satisfatórios."
      ],
      "metadata": {
        "id": "H3BIDw8lhD_F"
      }
    },
    {
      "cell_type": "markdown",
      "source": [
        "### 3.1.2. K-Nearest Neighbors (KNN):"
      ],
      "metadata": {
        "id": "n2BWAlpOlvhk"
      }
    },
    {
      "cell_type": "code",
      "source": [
        "# KNN - n = 3\n",
        "knn_3 = KNeighborsClassifier(n_neighbors = 3)\n",
        "knn_3.fit(train_x, train_y)\n",
        "\n",
        "# Saída\n",
        "print(classification_report(test_y, knn_3.predict(test_x)))"
      ],
      "metadata": {
        "colab": {
          "base_uri": "https://localhost:8080/"
        },
        "id": "3NryrmdQmBoC",
        "outputId": "3a14e9d7-f5fb-4515-e189-7d0837ce37b9"
      },
      "execution_count": null,
      "outputs": [
        {
          "output_type": "stream",
          "name": "stdout",
          "text": [
            "              precision    recall  f1-score   support\n",
            "\n",
            "         0.0       0.99      0.99      0.99    273871\n",
            "         1.0       0.89      0.93      0.91     26129\n",
            "\n",
            "    accuracy                           0.98    300000\n",
            "   macro avg       0.94      0.96      0.95    300000\n",
            "weighted avg       0.98      0.98      0.98    300000\n",
            "\n"
          ]
        }
      ]
    },
    {
      "cell_type": "code",
      "source": [
        "# KNN - n = 5\n",
        "knn_5 = KNeighborsClassifier(n_neighbors = 5)\n",
        "knn_5.fit(train_x, train_y)\n",
        "\n",
        "# Saída\n",
        "print(classification_report(test_y, knn_5.predict(test_x)))"
      ],
      "metadata": {
        "colab": {
          "base_uri": "https://localhost:8080/"
        },
        "id": "eRfas7nbm0Sg",
        "outputId": "a56cfc0e-3059-4c9d-b764-6ef9eebf40b4"
      },
      "execution_count": null,
      "outputs": [
        {
          "output_type": "stream",
          "name": "stdout",
          "text": [
            "              precision    recall  f1-score   support\n",
            "\n",
            "         0.0       0.99      0.99      0.99    273871\n",
            "         1.0       0.88      0.93      0.90     26129\n",
            "\n",
            "    accuracy                           0.98    300000\n",
            "   macro avg       0.94      0.96      0.95    300000\n",
            "weighted avg       0.98      0.98      0.98    300000\n",
            "\n"
          ]
        }
      ]
    },
    {
      "cell_type": "markdown",
      "source": [
        "Não foi observado grandes mudanças para n = 3 e n = 5. Em ambos, os parâmetros analisados possuem alto valor tanto para os dados não fraudulentos como para os fraudulentos.\n",
        "\n",
        "Para saber se o modelo realmente está funcionando bem, será analisada a matriz de confusão da KNN, para 5 vizinhos."
      ],
      "metadata": {
        "id": "ok5rGeZukxE6"
      }
    },
    {
      "cell_type": "code",
      "source": [
        "# Matriz de Confusão - n = 5\n",
        "sns.heatmap(confusion_matrix(test_y, knn_5.predict(test_x)), annot=True);"
      ],
      "metadata": {
        "colab": {
          "base_uri": "https://localhost:8080/",
          "height": 265
        },
        "id": "ADNrr33tuBMv",
        "outputId": "be4c31f9-48c2-4f24-beea-64133f9bf126"
      },
      "execution_count": null,
      "outputs": [
        {
          "output_type": "display_data",
          "data": {
            "text/plain": [
              "<Figure size 432x288 with 2 Axes>"
            ],
            "image/png": "[encoded data removed]"
          },
          "metadata": {
            "needs_background": "light"
          }
        }
      ]
    },
    {
      "cell_type": "markdown",
      "source": [
        "Da matriz de confusão da KNN, observamos o seguinte:\n",
        "\n",
        "\n",
        "*   Alto valor para *true positive* (270000);\n",
        "*   Valor de 24000 para *true negative*;\n",
        "*   Valor de *false positive* é 2000;\n",
        "*   Valor de *false negative* é cerca de 3100 casos;\n",
        "\n",
        "A KNN também apresenta resultados satisfatórios, porém melhores do que a Regressão Logística."
      ],
      "metadata": {
        "id": "fDitcuLymDjD"
      }
    },
    {
      "cell_type": "markdown",
      "source": [
        "### 3.1.3. Árvore de Decisão (Decision Tree):"
      ],
      "metadata": {
        "id": "DMcW0OmbpTJL"
      }
    },
    {
      "cell_type": "code",
      "source": [
        "# Decision Tree:\n",
        "dt = DecisionTreeClassifier(random_state = 42)\n",
        "dt.fit(train_x, train_y)\n",
        "\n",
        "# Saída\n",
        "print(classification_report(test_y, dt.predict(test_x)))"
      ],
      "metadata": {
        "colab": {
          "base_uri": "https://localhost:8080/"
        },
        "id": "XWyACl2MpGIv",
        "outputId": "ce1253f2-ff11-4b96-e338-f8ef11e31dff"
      },
      "execution_count": null,
      "outputs": [
        {
          "output_type": "stream",
          "name": "stdout",
          "text": [
            "              precision    recall  f1-score   support\n",
            "\n",
            "         0.0       1.00      1.00      1.00    273871\n",
            "         1.0       1.00      1.00      1.00     26129\n",
            "\n",
            "    accuracy                           1.00    300000\n",
            "   macro avg       1.00      1.00      1.00    300000\n",
            "weighted avg       1.00      1.00      1.00    300000\n",
            "\n"
          ]
        }
      ]
    },
    {
      "cell_type": "markdown",
      "source": [
        "Já a Árvore de Decisão parece apresentar resultados perfeitos, com todos os parâmetros em 100%. Infelizmente, sabemos que em *Machine Learning*, ótimos parâmetros não nos retornam bons modelos.\n",
        "\n",
        "Para completar a análise, vamos verificar a matriz de confusão."
      ],
      "metadata": {
        "id": "plPFbf3enjHF"
      }
    },
    {
      "cell_type": "code",
      "source": [
        "# Matriz de Confusão\n",
        "sns.heatmap(confusion_matrix(test_y, dt.predict(test_x)), annot=True);"
      ],
      "metadata": {
        "colab": {
          "base_uri": "https://localhost:8080/",
          "height": 265
        },
        "id": "Nyy8CmEYtZYv",
        "outputId": "f204a1e3-c995-4ece-ce90-75b3685969ab"
      },
      "execution_count": null,
      "outputs": [
        {
          "output_type": "display_data",
          "data": {
            "text/plain": [
              "<Figure size 432x288 with 2 Axes>"
            ],
            "image/png": "[encoded data removed]"
          },
          "metadata": {
            "needs_background": "light"
          }
        }
      ]
    },
    {
      "cell_type": "markdown",
      "source": [
        "De acordo com a matriz de confusão da Árvore de Decisão, este modelo é perfeito para os dados analisados."
      ],
      "metadata": {
        "id": "Psx4AhQnn_E-"
      }
    },
    {
      "cell_type": "markdown",
      "source": [
        "## 3.2. Análise Balanceada:\n",
        "\n",
        "No terceiro *notebook* estudado, o usuário fez uso da técnica de SMOTE (Synthetic Minority Over-sampling TEchnique), que é uma técnica de processamento ideal para *datasets* com dados desbalanceados."
      ],
      "metadata": {
        "id": "sBsd9oIDoamY"
      }
    },
    {
      "cell_type": "code",
      "source": [
        "# Importando a biblioteca SMOTE\n",
        "from imblearn.over_sampling import SMOTE"
      ],
      "metadata": {
        "id": "rq_vnv5DxU_a"
      },
      "execution_count": null,
      "outputs": []
    },
    {
      "cell_type": "code",
      "source": [
        "# Definindo os dados de treinamento (70%) e de teste (30%)\n",
        "sm = SMOTE(random_state = 42)\n",
        "X_train_smote, y_train_smote = sm.fit_resample(train_x, train_y)"
      ],
      "metadata": {
        "id": "qbqzrnOhxvRS"
      },
      "execution_count": null,
      "outputs": []
    },
    {
      "cell_type": "code",
      "source": [
        "# Verificando se os dados estão balanceados\n",
        "sns.countplot(x = y_train_smote)"
      ],
      "metadata": {
        "colab": {
          "base_uri": "https://localhost:8080/",
          "height": 296
        },
        "id": "wBzK3Lm46JYd",
        "outputId": "766e1012-018a-4879-90b0-687a1f8ae914"
      },
      "execution_count": null,
      "outputs": [
        {
          "output_type": "execute_result",
          "data": {
            "text/plain": [
              "<matplotlib.axes._subplots.AxesSubplot at 0x7fe0897a1e80>"
            ]
          },
          "metadata": {},
          "execution_count": 30
        },
        {
          "output_type": "display_data",
          "data": {
            "text/plain": [
              "<Figure size 432x288 with 1 Axes>"
            ],
            "image/png": "[encoded data removed]"
          },
          "metadata": {
            "needs_background": "light"
          }
        }
      ]
    },
    {
      "cell_type": "markdown",
      "source": [
        "Com nossos dados balanceados, será feita uma nova divisão dos dados de treinamento e de teste."
      ],
      "metadata": {
        "id": "ZRioXffiM7Xn"
      }
    },
    {
      "cell_type": "code",
      "source": [
        "# Definindo os novos dados de treinamento (70%) e de teste (30%)\n",
        "X_train, X_test, y_train, y_test = train_test_split(X_train_smote, y_train_smote, random_state=42, test_size = 0.3)"
      ],
      "metadata": {
        "id": "CbBsGFadJYIp"
      },
      "execution_count": null,
      "outputs": []
    },
    {
      "cell_type": "markdown",
      "source": [
        "Vamos verificar agora os modelos treinados na seção anterior com os dados balanceados."
      ],
      "metadata": {
        "id": "0ORH8qM56j8T"
      }
    },
    {
      "cell_type": "markdown",
      "source": [
        "### 3.2.1. Modelo de Regressão Logística:"
      ],
      "metadata": {
        "id": "0AFr8FhK6-Mm"
      }
    },
    {
      "cell_type": "code",
      "source": [
        "# Regressão Logística\n",
        "lr_s = LogisticRegression()\n",
        "lr_s.fit(X_train, y_train)\n",
        "\n",
        "# Saída\n",
        "print(classification_report(y_test, lr_s.predict(X_test)))"
      ],
      "metadata": {
        "colab": {
          "base_uri": "https://localhost:8080/"
        },
        "outputId": "c4957087-4be8-44f6-8826-4e5a2aa533e5",
        "id": "5eRvY_aT6-Mn"
      },
      "execution_count": null,
      "outputs": [
        {
          "output_type": "stream",
          "name": "stderr",
          "text": [
            "/usr/local/lib/python3.8/dist-packages/sklearn/linear_model/_logistic.py:814: ConvergenceWarning: lbfgs failed to converge (status=1):\n",
            "STOP: TOTAL NO. of ITERATIONS REACHED LIMIT.\n",
            "\n",
            "Increase the number of iterations (max_iter) or scale the data as shown in:\n",
            "    https://scikit-learn.org/stable/modules/preprocessing.html\n",
            "Please also refer to the documentation for alternative solver options:\n",
            "    https://scikit-learn.org/stable/modules/linear_model.html#logistic-regression\n",
            "  n_iter_i = _check_optimize_result(\n"
          ]
        },
        {
          "output_type": "stream",
          "name": "stdout",
          "text": [
            "              precision    recall  f1-score   support\n",
            "\n",
            "         0.0       0.95      0.93      0.94    191636\n",
            "         1.0       0.93      0.95      0.94    191600\n",
            "\n",
            "    accuracy                           0.94    383236\n",
            "   macro avg       0.94      0.94      0.94    383236\n",
            "weighted avg       0.94      0.94      0.94    383236\n",
            "\n"
          ]
        }
      ]
    },
    {
      "cell_type": "markdown",
      "source": [
        "Comparando com o mesmo modelo sem balanceamento (seção 3.1.1) é possível notar uma melhora significativa, com precisão de 93% contra os 89% dos dados fraudulentos. Já no *recall* e no f1-*score*, a melhora foi ainda mais notável."
      ],
      "metadata": {
        "id": "SWIwq9ES6-Mn"
      }
    },
    {
      "cell_type": "code",
      "source": [
        "# Matriz de Confusão\n",
        "sns.heatmap(confusion_matrix(y_test, lr_s.predict(X_test)), annot=True);"
      ],
      "metadata": {
        "colab": {
          "base_uri": "https://localhost:8080/",
          "height": 267
        },
        "outputId": "75b0e533-f1d8-4764-ce83-fe5820766d96",
        "id": "4W39zgj36-Mo"
      },
      "execution_count": null,
      "outputs": [
        {
          "output_type": "display_data",
          "data": {
            "text/plain": [
              "<Figure size 432x288 with 2 Axes>"
            ],
            "image/png": "[encoded data removed]"
          },
          "metadata": {
            "needs_background": "light"
          }
        }
      ]
    },
    {
      "cell_type": "markdown",
      "source": [
        "Da matriz de confusão da Regressão Logística Balanceada, observamos o seguinte:\n",
        "\n",
        "\n",
        "*   Alto valor para *true positive* (180000);\n",
        "*   Valor cerca de 10 vezes menor para *true negative* (180000);\n",
        "*   Valor de *false positive* é da ordem de 10000 casos;\n",
        "*   Valor de *false negative* é cerca de 13000 casos;\n",
        "\n",
        "Aparentemente, o modelo de Regressão Logística Balanceado apresenta melhora significativa em relação à análise desbalanceada, mesmo que os resultados sejam satisfatórios."
      ],
      "metadata": {
        "id": "y1V62_jb6-Mo"
      }
    },
    {
      "cell_type": "markdown",
      "source": [
        "### 3.2.2. K-Nearest Neighbors (KNN):"
      ],
      "metadata": {
        "id": "aRfovUOu6-Mo"
      }
    },
    {
      "cell_type": "code",
      "source": [
        "# KNN - n = 5\n",
        "knn_5_s = KNeighborsClassifier(n_neighbors = 5)\n",
        "knn_5_s.fit(X_train, y_train)\n",
        "\n",
        "# Saída\n",
        "print(classification_report(y_test, knn_5_s.predict(X_test)))"
      ],
      "metadata": {
        "colab": {
          "base_uri": "https://localhost:8080/"
        },
        "outputId": "75201b18-fadd-44e1-b1e6-22118fdf17b9",
        "id": "LtM596XF6-Mo"
      },
      "execution_count": null,
      "outputs": [
        {
          "output_type": "stream",
          "name": "stdout",
          "text": [
            "              precision    recall  f1-score   support\n",
            "\n",
            "         0.0       1.00      0.97      0.98    191636\n",
            "         1.0       0.97      1.00      0.98    191600\n",
            "\n",
            "    accuracy                           0.98    383236\n",
            "   macro avg       0.98      0.98      0.98    383236\n",
            "weighted avg       0.98      0.98      0.98    383236\n",
            "\n"
          ]
        }
      ]
    },
    {
      "cell_type": "markdown",
      "source": [
        "Já o KNN Balanceado com 5 vizinhos apresentou valores altíssimos para ambos os casos. Até esta parte do trabalho, este parece ser o modelo com melhor treinamento."
      ],
      "metadata": {
        "id": "aT458HmH6-Mp"
      }
    },
    {
      "cell_type": "code",
      "source": [
        "# Matriz de Confusão - n = 5\n",
        "sns.heatmap(confusion_matrix(y_test, knn_5_s.predict(X_test)), annot=True);"
      ],
      "metadata": {
        "colab": {
          "base_uri": "https://localhost:8080/",
          "height": 265
        },
        "outputId": "b91d53c1-28a5-42a2-aa60-d1af2f868482",
        "id": "Aot5w-ZR6-Mp"
      },
      "execution_count": null,
      "outputs": [
        {
          "output_type": "display_data",
          "data": {
            "text/plain": [
              "<Figure size 432x288 with 2 Axes>"
            ],
            "image/png": "[encoded data removed]"
          },
          "metadata": {
            "needs_background": "light"
          }
        }
      ]
    },
    {
      "cell_type": "markdown",
      "source": [
        "Da matriz de confusão da KNN Balanceada, observamos o seguinte:\n",
        "\n",
        "\n",
        "*   Alto valor para *true positive* (190000);\n",
        "*   Valor de 190000 para *true negative*;\n",
        "*   Valor de *false positive* é 40, valor extremamente baixo;\n",
        "*   Valor de *false negative* é cerca de 6000 casos;\n",
        "\n",
        "A KNN Balanceada apresentou resultados muito bons, porém o modelo de Árvore de Decisão (desbalanceado) se mostrou mais eficaz."
      ],
      "metadata": {
        "id": "7ZgdPmSL6-Mp"
      }
    },
    {
      "cell_type": "markdown",
      "source": [
        "### 3.2.3. Árvore de Decisão (Decision Tree):"
      ],
      "metadata": {
        "id": "0SmV9T0s6-Mp"
      }
    },
    {
      "cell_type": "code",
      "source": [
        "# Decision Tree:\n",
        "dt_s = DecisionTreeClassifier(random_state = 42)\n",
        "dt_s.fit(X_train, y_train)\n",
        "\n",
        "# Saída\n",
        "print(classification_report(y_test, dt_s.predict(X_test)))"
      ],
      "metadata": {
        "colab": {
          "base_uri": "https://localhost:8080/"
        },
        "outputId": "25e1fba2-cdd0-4d14-c103-9dbe51207ff7",
        "id": "E1uJmsXT6-Mp"
      },
      "execution_count": null,
      "outputs": [
        {
          "output_type": "stream",
          "name": "stdout",
          "text": [
            "              precision    recall  f1-score   support\n",
            "\n",
            "         0.0       1.00      1.00      1.00    191636\n",
            "         1.0       1.00      1.00      1.00    191600\n",
            "\n",
            "    accuracy                           1.00    383236\n",
            "   macro avg       1.00      1.00      1.00    383236\n",
            "weighted avg       1.00      1.00      1.00    383236\n",
            "\n"
          ]
        }
      ]
    },
    {
      "cell_type": "markdown",
      "source": [
        "Por fim, a Árvore de Decisão Balanceada parece ser perfeita, com 100% de precisão, *recall* e f1-*score* para ambos os casos.\n",
        "\n",
        "Verificando sua matriz de confusão, temos:"
      ],
      "metadata": {
        "id": "OXVKcqBH6-Mq"
      }
    },
    {
      "cell_type": "code",
      "source": [
        "# Matriz de Confusão\n",
        "sns.heatmap(confusion_matrix(y_test, dt_s.predict(X_test)), annot=True);"
      ],
      "metadata": {
        "colab": {
          "base_uri": "https://localhost:8080/",
          "height": 265
        },
        "outputId": "c11d9af3-a285-41f4-bb2b-b7f973b864ea",
        "id": "R_yJxSod6-Mq"
      },
      "execution_count": null,
      "outputs": [
        {
          "output_type": "display_data",
          "data": {
            "text/plain": [
              "<Figure size 432x288 with 2 Axes>"
            ],
            "image/png": "[encoded data removed]"
          },
          "metadata": {
            "needs_background": "light"
          }
        }
      ]
    },
    {
      "cell_type": "markdown",
      "source": [
        "Da matriz de confusão da Árvore de Decisão Balanceada, observamos o seguinte:\n",
        "\n",
        "\n",
        "*   Alto valor para *true positive* (190000);\n",
        "*   Valor de 190000 para *true negative*;\n",
        "*   Valor de *false positive* é 4, valor extremamente baixo;\n",
        "*   Valor de *false negative* é cerca de 16 casos;\n",
        "\n",
        "Novamente, a Árvore de Decisão mostrou-se um modelo muito bom para o caso estudado."
      ],
      "metadata": {
        "id": "BLcmasGmSXPO"
      }
    },
    {
      "cell_type": "markdown",
      "source": [
        "Comparando agora os modelos de Árvore de Decisão Desbalanceado (IDT) e Árvore de Decisão Balanceado (BDT), temos que:\n",
        "\n",
        "\n",
        "*   A IDT apresenta menos casos de *false positive* e *false negative*;\n",
        "*   A BDT apresenta mais casos de *true negative*;\n",
        "\n"
      ],
      "metadata": {
        "id": "9gn-IBuY6-Mq"
      }
    },
    {
      "cell_type": "markdown",
      "source": [
        "# 4. Conclusões:"
      ],
      "metadata": {
        "id": "ov4lfwcRmHom"
      }
    },
    {
      "cell_type": "markdown",
      "source": [
        "Algumas conclusões ao longo do estudo dos modelos:\n",
        "\n",
        "*   Na análise feita neste trabalho verificou-se que o modelo que apresenta melhores resultados é a Árvore de Decisão;\n",
        "\n",
        "*   Comparando nossa análise com a análise feita no primeiro *notebook* (Regressão Logística desbalanceado), foi possível verificar que a quantidade de *false negative* e *false positive* é alta, o que não é vantajoso no problema de fraudes em cartões;\n",
        "\n",
        "*   O uso do SMOTE, como feito no segundo *notebook* é uma técnica de *oversampling* muito interessante e que traz grandes vantagens aos modelos analisados. Seria interessante estudar outras técnicas, como as de *undersampling* neste problema;\n",
        "\n",
        "*   Assim como o terceiro *notebook*, também foram estudados três modelos (neste trabalho: Regressão Logística, KNN e Árvore de Decisão; no terceiro *notebook*: DNN, SVM e Árvore de Decisão), e o autor também chegou à mesma conclusão: a Árvore de Decisão é um modelo excelente nesta análise;"
      ],
      "metadata": {
        "id": "HQpx_Ydzmq0j"
      }
    },
    {
      "cell_type": "markdown",
      "source": [
        "# 5. Referências Bibliográficas:\n",
        "\n",
        "[1]https://www1.folha.uol.com.br/mercado/2021/08/compras-online-com-cartao-crescem-465-no-2o-trimestre-e-atingem-r-1351-bilhoes.shtml\n",
        "\n",
        "[2] https://www.insper.edu.br/noticias/como-a-pandemia-mudou-o-comportamento-dos-consumidores/\n",
        "\n",
        "[3]https://www.gazetadopovo.com.br/bomgourmet/negocios-e-franquias/compras-online-alimentos-bebidas/\n",
        "\n",
        "[4]https://www.ecommercebrasil.com.br/noticias/segundo-pesquisa-brasil-e-1o-no-ranking-mundial-de-crescimento-das-compras-online\n",
        "\n",
        "[5]https://mundoconectado.com.br/noticias/v/27527/1-em-cada-3-brasileiros-ja-foi-vitima-de-fraude-com-cartao-de-credito\n",
        "\n",
        "[6] Nguyen, T. T., Tahir, H., Abdelrazek, M., & Babar, A. (2020). Deep learning methods for credit card fraud detection. arXiv preprint arXiv:2012.03754.\n",
        "\n",
        "[7] Dornadula, V. N., & Geetha, S. (2019). Credit card fraud detection using machine learning algorithms. Procedia computer science, 165, 631-641.\n",
        "\n",
        "[8] John, H., & Naaz, S. (2019). Credit card fraud detection using local outlier factor and isolation forest. Int. J. Comput. Sci. Eng, 7(4), 1060-1064.\n",
        "\n",
        "[9] https://www.kaggle.com/datasets/dhanushnarayananr/credit-card-fraud?resource=download"
      ],
      "metadata": {
        "id": "TbpPYDITzd9h"
      }
    }
  ]
}